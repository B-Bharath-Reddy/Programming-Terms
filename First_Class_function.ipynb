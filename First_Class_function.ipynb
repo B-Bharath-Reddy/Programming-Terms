{
 "cells": [
  {
   "cell_type": "markdown",
   "id": "9ca7825b",
   "metadata": {},
   "source": [
    "# First Class Function"
   ]
  },
  {
   "cell_type": "markdown",
   "id": "7e3b74a3",
   "metadata": {},
   "source": [
    "In computer science, a programming language is said to have first-class functions if it treats functions as first-class citizens. "
   ]
  },
  {
   "cell_type": "markdown",
   "id": "08c32d65",
   "metadata": {},
   "source": [
    " This means the language supports passing functions as arguments to other functions, returning them as the values from other functions, and assigning them to variables or storing them in data structures."
   ]
  },
  {
   "cell_type": "markdown",
   "id": "bfa24c66",
   "metadata": {},
   "source": [
    " Some programming language theorists require support for anonymous functions (function literals) as well."
   ]
  },
  {
   "cell_type": "markdown",
   "id": "a32232c2",
   "metadata": {},
   "source": [
    "## first-class citizen"
   ]
  },
  {
   "cell_type": "markdown",
   "id": "ed4c7ced",
   "metadata": {},
   "source": [
    "In a given programming language design, a first-class citizen is an entity which supports all the operations generally available to other entities. These operations typically include being passed as an argument, returned from a function, and assigned to a variable."
   ]
  },
  {
   "cell_type": "markdown",
   "id": "96a25889",
   "metadata": {},
   "source": [
    "In simple words treating functions similar to other objects such as variable"
   ]
  },
  {
   "cell_type": "markdown",
   "id": "33889e74",
   "metadata": {},
   "source": [
    "# Assigning function to a variable or Function Aliasing"
   ]
  },
  {
   "cell_type": "code",
   "execution_count": 1,
   "id": "b5253cf4",
   "metadata": {},
   "outputs": [],
   "source": [
    "def squares(x):\n",
    "    return x**2"
   ]
  },
  {
   "cell_type": "code",
   "execution_count": 2,
   "id": "a743dfa0",
   "metadata": {},
   "outputs": [
    {
     "name": "stdout",
     "output_type": "stream",
     "text": [
      "<function squares at 0x0000026497858C20>\n",
      "25\n"
     ]
    }
   ],
   "source": [
    "x = squares(5)\n",
    "print(squares)\n",
    "print(x)"
   ]
  },
  {
   "cell_type": "markdown",
   "id": "f9ff5ca6",
   "metadata": {},
   "source": [
    "-  Calling the function and storing the functions output to the variable x"
   ]
  },
  {
   "cell_type": "code",
   "execution_count": 3,
   "id": "62056578",
   "metadata": {},
   "outputs": [
    {
     "name": "stdout",
     "output_type": "stream",
     "text": [
      "25\n"
     ]
    }
   ],
   "source": [
    "x = squares(5) \n",
    "                  # Calling the function and storing the functions output to the variable x\n",
    "print(x)"
   ]
  },
  {
   "cell_type": "markdown",
   "id": "3010afa1",
   "metadata": {},
   "source": [
    "Assigning a function to a variable"
   ]
  },
  {
   "cell_type": "code",
   "execution_count": 4,
   "id": "8825bec2",
   "metadata": {},
   "outputs": [
    {
     "name": "stdout",
     "output_type": "stream",
     "text": [
      "<function squares at 0x0000026497858C20>\n",
      "<function squares at 0x0000026497858C20>\n"
     ]
    }
   ],
   "source": [
    "x = squares    \n",
    "\n",
    "print(squares)   \n",
    "print(x)"
   ]
  },
  {
   "cell_type": "markdown",
   "id": "3847fbbc",
   "metadata": {},
   "source": [
    "So above code is the one of the the aspects of what it means to be a first class function "
   ]
  },
  {
   "cell_type": "markdown",
   "id": "80c12e5c",
   "metadata": {},
   "source": [
    "Now we can treate variable x as a function"
   ]
  },
  {
   "cell_type": "code",
   "execution_count": 5,
   "id": "3cd74610",
   "metadata": {},
   "outputs": [
    {
     "data": {
      "text/plain": [
       "25"
      ]
     },
     "execution_count": 5,
     "metadata": {},
     "output_type": "execute_result"
    }
   ],
   "source": [
    "x(5)"
   ]
  },
  {
   "cell_type": "markdown",
   "id": "76503a97",
   "metadata": {},
   "source": [
    "# We can pass Function as a argument to another function"
   ]
  },
  {
   "cell_type": "markdown",
   "id": "485ddd79",
   "metadata": {},
   "source": [
    "#### If a function accepts a function as a argument or returns function as their result function thats what we called Higher Order function"
   ]
  },
  {
   "cell_type": "markdown",
   "id": "5242e9dd",
   "metadata": {},
   "source": [
    "- filter(func,iterable)\n",
    "- map(func,iterable)\n",
    "- reduce(func,iterable)"
   ]
  },
  {
   "cell_type": "code",
   "execution_count": 6,
   "id": "dc0420e5",
   "metadata": {},
   "outputs": [],
   "source": [
    "def square(x):\n",
    "    return x**2"
   ]
  },
  {
   "cell_type": "code",
   "execution_count": 7,
   "id": "fb2b1aa7",
   "metadata": {},
   "outputs": [],
   "source": [
    "def cubes(x):\n",
    "    return x**3"
   ]
  },
  {
   "cell_type": "markdown",
   "id": "785e0b3e",
   "metadata": {},
   "source": [
    "- The below function works similar to builtin map function"
   ]
  },
  {
   "cell_type": "code",
   "execution_count": 8,
   "id": "1b51b252",
   "metadata": {},
   "outputs": [],
   "source": [
    "def my_map(func,arg_list):\n",
    "    \n",
    "    result = []\n",
    "    \n",
    "    for i in arg_list:\n",
    "        result.append(func(i))\n",
    "        \n",
    "    return result    \n",
    "        "
   ]
  },
  {
   "cell_type": "code",
   "execution_count": 9,
   "id": "69cd0852",
   "metadata": {},
   "outputs": [],
   "source": [
    "squares= my_map(square,[1,2,3,4,5,6,7,8,9])"
   ]
  },
  {
   "cell_type": "code",
   "execution_count": 10,
   "id": "ac50ed0e",
   "metadata": {},
   "outputs": [
    {
     "data": {
      "text/plain": [
       "[1, 4, 9, 16, 25, 36, 49, 64, 81]"
      ]
     },
     "execution_count": 10,
     "metadata": {},
     "output_type": "execute_result"
    }
   ],
   "source": [
    "squares"
   ]
  },
  {
   "cell_type": "markdown",
   "id": "41f06075",
   "metadata": {},
   "source": [
    "- Above function similar to below map()"
   ]
  },
  {
   "cell_type": "code",
   "execution_count": 11,
   "id": "e30a18d7",
   "metadata": {},
   "outputs": [
    {
     "data": {
      "text/plain": [
       "[1, 4, 9, 16, 25, 36, 49, 64, 81]"
      ]
     },
     "execution_count": 11,
     "metadata": {},
     "output_type": "execute_result"
    }
   ],
   "source": [
    "list(map(square,[1,2,3,4,5,6,7,8,9]))"
   ]
  },
  {
   "cell_type": "markdown",
   "id": "755ff7f1",
   "metadata": {},
   "source": [
    "- we can pass any function as a arguments to our custom my_map function"
   ]
  },
  {
   "cell_type": "markdown",
   "id": "23b51c8a",
   "metadata": {},
   "source": [
    " - In below cell we are passed cubes function as a argument to my_map function()"
   ]
  },
  {
   "cell_type": "code",
   "execution_count": 12,
   "id": "feb81695",
   "metadata": {},
   "outputs": [
    {
     "data": {
      "text/plain": [
       "[1, 8, 27, 64, 125, 216, 343, 512, 729]"
      ]
     },
     "execution_count": 12,
     "metadata": {},
     "output_type": "execute_result"
    }
   ],
   "source": [
    "my_map(cubes,[1,2,3,4,5,6,7,8,9])"
   ]
  },
  {
   "cell_type": "code",
   "execution_count": 13,
   "id": "9d9a6665",
   "metadata": {},
   "outputs": [],
   "source": [
    "def add(x,y):\n",
    "    return x+y"
   ]
  },
  {
   "cell_type": "code",
   "execution_count": 14,
   "id": "f605db39",
   "metadata": {},
   "outputs": [],
   "source": [
    "def sum_of_square(x,y,func):\n",
    "    print(func,type(func))"
   ]
  },
  {
   "cell_type": "code",
   "execution_count": 15,
   "id": "a1e94d49",
   "metadata": {},
   "outputs": [],
   "source": [
    "def sum_of_square(x,y,func):\n",
    "    s=func(x,y) # add(x,y)\n",
    "    return s**2"
   ]
  },
  {
   "cell_type": "code",
   "execution_count": 16,
   "id": "985a843c",
   "metadata": {},
   "outputs": [
    {
     "data": {
      "text/plain": [
       "121"
      ]
     },
     "execution_count": 16,
     "metadata": {},
     "output_type": "execute_result"
    }
   ],
   "source": [
    "sum_of_square(5,6,add)"
   ]
  },
  {
   "cell_type": "code",
   "execution_count": 17,
   "id": "932df4c4",
   "metadata": {},
   "outputs": [],
   "source": [
    "def consonants(text):\n",
    "    \n",
    "    result = ''\n",
    "    \n",
    "    for i in text:\n",
    "        if i.isalpha():\n",
    "            if i not in \"AEIOUaeiou\":\n",
    "                result +=i\n",
    "                \n",
    "    return result            "
   ]
  },
  {
   "cell_type": "code",
   "execution_count": 18,
   "id": "5b15c44f",
   "metadata": {},
   "outputs": [],
   "source": [
    "text = \"India is my country@123\""
   ]
  },
  {
   "cell_type": "code",
   "execution_count": 19,
   "id": "5c3fb900",
   "metadata": {},
   "outputs": [
    {
     "data": {
      "text/plain": [
       "'ndsmycntry'"
      ]
     },
     "execution_count": 19,
     "metadata": {},
     "output_type": "execute_result"
    }
   ],
   "source": [
    "consonants(text)"
   ]
  },
  {
   "cell_type": "code",
   "execution_count": 20,
   "id": "0c14525a",
   "metadata": {},
   "outputs": [],
   "source": [
    "def consonants_upper(text,func):\n",
    "    return func(text).upper()"
   ]
  },
  {
   "cell_type": "code",
   "execution_count": 21,
   "id": "5f318556",
   "metadata": {},
   "outputs": [
    {
     "data": {
      "text/plain": [
       "'NDSMYCNTRY'"
      ]
     },
     "execution_count": 21,
     "metadata": {},
     "output_type": "execute_result"
    }
   ],
   "source": [
    "consonants_upper(text,consonants)"
   ]
  },
  {
   "cell_type": "code",
   "execution_count": 22,
   "id": "2e344874",
   "metadata": {},
   "outputs": [
    {
     "data": {
      "text/plain": [
       "['N', 'D', 'S', 'M', 'Y', 'C', 'N', 'T', 'R', 'Y']"
      ]
     },
     "execution_count": 22,
     "metadata": {},
     "output_type": "execute_result"
    }
   ],
   "source": [
    "list(consonants_upper(text,consonants))"
   ]
  },
  {
   "cell_type": "code",
   "execution_count": 23,
   "id": "07aa014c",
   "metadata": {},
   "outputs": [
    {
     "data": {
      "text/plain": [
       "<filter at 0x2649789cdc0>"
      ]
     },
     "execution_count": 23,
     "metadata": {},
     "output_type": "execute_result"
    }
   ],
   "source": [
    "filter(lambda x:x not in 'AEIOUaeiou' and x.isalpha(),text)"
   ]
  },
  {
   "cell_type": "code",
   "execution_count": 24,
   "id": "2ac374c7",
   "metadata": {},
   "outputs": [
    {
     "name": "stdout",
     "output_type": "stream",
     "text": [
      "['n', 'd', 's', 'm', 'y', 'c', 'n', 't', 'r', 'y']\n"
     ]
    }
   ],
   "source": [
    "print(list(filter(consonants,text)))"
   ]
  },
  {
   "cell_type": "code",
   "execution_count": 25,
   "id": "0c0413f7",
   "metadata": {},
   "outputs": [],
   "source": [
    "def nums():\n",
    "    return [i for i in range(1,11)]"
   ]
  },
  {
   "cell_type": "code",
   "execution_count": 26,
   "id": "f58920e5",
   "metadata": {},
   "outputs": [
    {
     "data": {
      "text/plain": [
       "[1, 2, 3, 4, 5, 6, 7, 8, 9, 10]"
      ]
     },
     "execution_count": 26,
     "metadata": {},
     "output_type": "execute_result"
    }
   ],
   "source": [
    "nums()"
   ]
  },
  {
   "cell_type": "code",
   "execution_count": 27,
   "id": "7b2c5155",
   "metadata": {},
   "outputs": [],
   "source": [
    "def cubes(func):\n",
    "    lst = nums()\n",
    "    return list(map(lambda x:x**3,lst))"
   ]
  },
  {
   "cell_type": "code",
   "execution_count": 28,
   "id": "b73f1174",
   "metadata": {},
   "outputs": [
    {
     "data": {
      "text/plain": [
       "[1, 8, 27, 64, 125, 216, 343, 512, 729, 1000]"
      ]
     },
     "execution_count": 28,
     "metadata": {},
     "output_type": "execute_result"
    }
   ],
   "source": [
    "cubes(nums)"
   ]
  },
  {
   "cell_type": "code",
   "execution_count": 29,
   "id": "7418d8ae",
   "metadata": {},
   "outputs": [],
   "source": [
    "def squares(func):\n",
    "    lst = nums()\n",
    "    return list(map(lambda x:x**2,lst))"
   ]
  },
  {
   "cell_type": "code",
   "execution_count": 30,
   "id": "58b72d10",
   "metadata": {},
   "outputs": [
    {
     "data": {
      "text/plain": [
       "[1, 4, 9, 16, 25, 36, 49, 64, 81, 100]"
      ]
     },
     "execution_count": 30,
     "metadata": {},
     "output_type": "execute_result"
    }
   ],
   "source": [
    "squares(nums)"
   ]
  },
  {
   "cell_type": "code",
   "execution_count": 31,
   "id": "d59cb3db",
   "metadata": {},
   "outputs": [],
   "source": [
    "lst=[1,2,3,4,5,6,7,8,9,10]"
   ]
  },
  {
   "cell_type": "code",
   "execution_count": 32,
   "id": "1eb42b2e",
   "metadata": {},
   "outputs": [],
   "source": [
    "def even(x):\n",
    "    if x%2==0:\n",
    "        return True\n",
    "    else:\n",
    "        return False\n",
    "    "
   ]
  },
  {
   "cell_type": "code",
   "execution_count": 33,
   "id": "75316ae5",
   "metadata": {},
   "outputs": [
    {
     "data": {
      "text/plain": [
       "[2, 4, 6, 8, 10]"
      ]
     },
     "execution_count": 33,
     "metadata": {},
     "output_type": "execute_result"
    }
   ],
   "source": [
    "list(filter(even,lst))"
   ]
  },
  {
   "cell_type": "code",
   "execution_count": 34,
   "id": "b40db119",
   "metadata": {},
   "outputs": [],
   "source": [
    "def even_nums(func):\n",
    "    lst = nums()\n",
    "    return list(filter(lambda x:x%2==0,lst))"
   ]
  },
  {
   "cell_type": "code",
   "execution_count": 35,
   "id": "43200a75",
   "metadata": {},
   "outputs": [
    {
     "data": {
      "text/plain": [
       "[2, 4, 6, 8, 10]"
      ]
     },
     "execution_count": 35,
     "metadata": {},
     "output_type": "execute_result"
    }
   ],
   "source": [
    "even_nums(nums)"
   ]
  },
  {
   "cell_type": "code",
   "execution_count": 36,
   "id": "b55d185c",
   "metadata": {},
   "outputs": [],
   "source": [
    "def even_nums(func):\n",
    "    lst = nums()\n",
    "    return list(filter(even,lst))"
   ]
  },
  {
   "cell_type": "code",
   "execution_count": 37,
   "id": "0552e48c",
   "metadata": {},
   "outputs": [
    {
     "data": {
      "text/plain": [
       "[2, 4, 6, 8, 10]"
      ]
     },
     "execution_count": 37,
     "metadata": {},
     "output_type": "execute_result"
    }
   ],
   "source": [
    "even_nums(nums)"
   ]
  },
  {
   "cell_type": "markdown",
   "id": "84bc33bf",
   "metadata": {},
   "source": [
    "# Return a function from another function (A function may return a function)"
   ]
  },
  {
   "cell_type": "code",
   "execution_count": 38,
   "id": "0e22cb3d",
   "metadata": {},
   "outputs": [],
   "source": [
    "def logger(msg):\n",
    "    \n",
    "    def log_message():\n",
    "        print('Log:',msg)\n",
    "        \n",
    "    return log_message    "
   ]
  },
  {
   "cell_type": "code",
   "execution_count": 39,
   "id": "2c129e4c",
   "metadata": {},
   "outputs": [],
   "source": [
    "log_hi = logger('Hi!')"
   ]
  },
  {
   "cell_type": "markdown",
   "id": "741ad3a1",
   "metadata": {},
   "source": [
    "Here log_hi = log_message because logger returns log_message"
   ]
  },
  {
   "cell_type": "code",
   "execution_count": 40,
   "id": "3e432f5f",
   "metadata": {},
   "outputs": [
    {
     "name": "stdout",
     "output_type": "stream",
     "text": [
      "Log: Hi!\n"
     ]
    }
   ],
   "source": [
    "log_hi()"
   ]
  },
  {
   "cell_type": "code",
   "execution_count": 41,
   "id": "64f28e3f",
   "metadata": {},
   "outputs": [],
   "source": [
    "def html_tag(tag):\n",
    "\n",
    "    def wrap_text(msg):\n",
    "        print('<{0}>{1}</{0}>'.format(tag, msg))\n",
    "\n",
    "    return wrap_text"
   ]
  },
  {
   "cell_type": "code",
   "execution_count": 42,
   "id": "40abcc88",
   "metadata": {},
   "outputs": [
    {
     "name": "stdout",
     "output_type": "stream",
     "text": [
      "<h1>Test Headline!</h1>\n",
      "<h1>Another Headline!</h1>\n"
     ]
    }
   ],
   "source": [
    "print_h1 = html_tag('h1')\n",
    "print_h1('Test Headline!')\n",
    "print_h1('Another Headline!')"
   ]
  },
  {
   "cell_type": "code",
   "execution_count": 43,
   "id": "b91b3001",
   "metadata": {},
   "outputs": [],
   "source": [
    "def outer():\n",
    "    print('I am the outer function')\n",
    "    \n",
    "    def inner():\n",
    "        print('I am the inner function')\n",
    "        \n",
    "    return inner"
   ]
  },
  {
   "cell_type": "code",
   "execution_count": 44,
   "id": "510b1de8",
   "metadata": {},
   "outputs": [
    {
     "name": "stdout",
     "output_type": "stream",
     "text": [
      "I am the outer function\n"
     ]
    }
   ],
   "source": [
    "x = outer()"
   ]
  },
  {
   "cell_type": "code",
   "execution_count": 45,
   "id": "34c91c43",
   "metadata": {},
   "outputs": [
    {
     "name": "stdout",
     "output_type": "stream",
     "text": [
      "<function outer.<locals>.inner at 0x00000264978BD3A0>\n"
     ]
    }
   ],
   "source": [
    "print(x)"
   ]
  },
  {
   "cell_type": "code",
   "execution_count": 46,
   "id": "7d460052",
   "metadata": {},
   "outputs": [
    {
     "name": "stdout",
     "output_type": "stream",
     "text": [
      "I am the inner function\n"
     ]
    }
   ],
   "source": [
    "x()"
   ]
  },
  {
   "cell_type": "code",
   "execution_count": 47,
   "id": "9cfd4f24",
   "metadata": {},
   "outputs": [],
   "source": [
    "def outer():\n",
    "    print('I am Outer')\n",
    "    return 5"
   ]
  },
  {
   "cell_type": "code",
   "execution_count": 48,
   "id": "e8752ffb",
   "metadata": {},
   "outputs": [
    {
     "name": "stdout",
     "output_type": "stream",
     "text": [
      "I am Outer\n"
     ]
    }
   ],
   "source": [
    "x = outer()"
   ]
  },
  {
   "cell_type": "code",
   "execution_count": 49,
   "id": "c7f24e5f",
   "metadata": {},
   "outputs": [
    {
     "name": "stdout",
     "output_type": "stream",
     "text": [
      "5\n"
     ]
    }
   ],
   "source": [
    "print(x)"
   ]
  },
  {
   "cell_type": "code",
   "execution_count": 50,
   "id": "7a4a7d1f",
   "metadata": {},
   "outputs": [],
   "source": [
    "def degree():\n",
    "    print('I am a degree program')\n",
    "    \n",
    "    def semester():\n",
    "        print('I am a particular semester')\n",
    "        \n",
    "    print(semester,type(semester))"
   ]
  },
  {
   "cell_type": "code",
   "execution_count": 51,
   "id": "322a7254",
   "metadata": {},
   "outputs": [
    {
     "name": "stdout",
     "output_type": "stream",
     "text": [
      "I am a degree program\n",
      "<function degree.<locals>.semester at 0x00000264978BE2A0> <class 'function'>\n"
     ]
    }
   ],
   "source": [
    "degree()"
   ]
  },
  {
   "cell_type": "code",
   "execution_count": 52,
   "id": "884926a6",
   "metadata": {},
   "outputs": [],
   "source": [
    "def degree():\n",
    "    print('I am a degree program')\n",
    "    \n",
    "    def semester():\n",
    "        print('I am a particular semester')\n",
    "        \n",
    "    return semester"
   ]
  },
  {
   "cell_type": "code",
   "execution_count": 53,
   "id": "023ed860",
   "metadata": {},
   "outputs": [
    {
     "name": "stdout",
     "output_type": "stream",
     "text": [
      "I am a degree program\n"
     ]
    }
   ],
   "source": [
    "res=degree()"
   ]
  },
  {
   "cell_type": "code",
   "execution_count": 54,
   "id": "491b7962",
   "metadata": {},
   "outputs": [
    {
     "data": {
      "text/plain": [
       "<function __main__.degree.<locals>.semester()>"
      ]
     },
     "execution_count": 54,
     "metadata": {},
     "output_type": "execute_result"
    }
   ],
   "source": [
    "res"
   ]
  },
  {
   "cell_type": "code",
   "execution_count": 55,
   "id": "224294a6",
   "metadata": {},
   "outputs": [
    {
     "name": "stdout",
     "output_type": "stream",
     "text": [
      "I am a particular semester\n"
     ]
    }
   ],
   "source": [
    "res()"
   ]
  },
  {
   "cell_type": "code",
   "execution_count": 56,
   "id": "01765372",
   "metadata": {},
   "outputs": [],
   "source": [
    "def outer():\n",
    "    \n",
    "    def inner():\n",
    "        return 'Hello'\n",
    "    return inner()"
   ]
  },
  {
   "cell_type": "code",
   "execution_count": 57,
   "id": "a42fa399",
   "metadata": {},
   "outputs": [
    {
     "name": "stdout",
     "output_type": "stream",
     "text": [
      "Hello\n"
     ]
    }
   ],
   "source": [
    "x=outer()\n",
    "print(x)"
   ]
  },
  {
   "cell_type": "code",
   "execution_count": 58,
   "id": "f50f9a92",
   "metadata": {},
   "outputs": [],
   "source": [
    "def outer():\n",
    "    \n",
    "    def inner():\n",
    "        print ('Hello')\n",
    "    return inner()"
   ]
  },
  {
   "cell_type": "code",
   "execution_count": 59,
   "id": "ce548a38",
   "metadata": {},
   "outputs": [
    {
     "name": "stdout",
     "output_type": "stream",
     "text": [
      "Hello\n",
      "None\n"
     ]
    }
   ],
   "source": [
    "x=outer()\n",
    "print(x)"
   ]
  },
  {
   "cell_type": "code",
   "execution_count": 60,
   "id": "3724bbd2",
   "metadata": {},
   "outputs": [],
   "source": [
    "def outer():\n",
    "    \n",
    "    def inner():\n",
    "        print('Hello')\n",
    "    return inner"
   ]
  },
  {
   "cell_type": "code",
   "execution_count": 61,
   "id": "d0deec7a",
   "metadata": {},
   "outputs": [
    {
     "name": "stdout",
     "output_type": "stream",
     "text": [
      "<function outer.<locals>.inner at 0x00000264978BF9C0>\n"
     ]
    }
   ],
   "source": [
    "x=outer()\n",
    "print(x)"
   ]
  },
  {
   "cell_type": "code",
   "execution_count": 62,
   "id": "aee680bb",
   "metadata": {},
   "outputs": [
    {
     "name": "stdout",
     "output_type": "stream",
     "text": [
      "Hello\n"
     ]
    }
   ],
   "source": [
    "x()"
   ]
  },
  {
   "cell_type": "markdown",
   "id": "a79f4e96",
   "metadata": {},
   "source": [
    "#### Function Properties"
   ]
  },
  {
   "cell_type": "markdown",
   "id": "4db70050",
   "metadata": {},
   "source": [
    "- A function can be assigned to a variable (Function aliasing)\n",
    "- A function may be defined inside another function.\n",
    "- A function may be called inside another function.\n",
    "- A function can be passed as an argument to another function.\n",
    "- A function may return a function."
   ]
  },
  {
   "cell_type": "markdown",
   "id": "c8494079",
   "metadata": {},
   "source": [
    "-- A function may be defined inside another function"
   ]
  },
  {
   "cell_type": "code",
   "execution_count": 63,
   "id": "912757e0",
   "metadata": {},
   "outputs": [],
   "source": [
    "def abc():\n",
    "    print('I am the abc function')\n",
    "    \n",
    "    def jkl():\n",
    "        print('I am jkl function')"
   ]
  },
  {
   "cell_type": "code",
   "execution_count": 64,
   "id": "5e416ce2",
   "metadata": {},
   "outputs": [
    {
     "ename": "NameError",
     "evalue": "name 'jkl' is not defined",
     "output_type": "error",
     "traceback": [
      "\u001b[1;31m---------------------------------------------------------------------------\u001b[0m",
      "\u001b[1;31mNameError\u001b[0m                                 Traceback (most recent call last)",
      "Cell \u001b[1;32mIn[64], line 1\u001b[0m\n\u001b[1;32m----> 1\u001b[0m jkl()\n",
      "\u001b[1;31mNameError\u001b[0m: name 'jkl' is not defined"
     ]
    }
   ],
   "source": [
    "jkl()"
   ]
  },
  {
   "cell_type": "code",
   "execution_count": 65,
   "id": "5ae114a3",
   "metadata": {},
   "outputs": [
    {
     "name": "stdout",
     "output_type": "stream",
     "text": [
      "['In', 'Out', '_', '_10', '_11', '_12', '_16', '_19', '_21', '_22', '_23', '_26', '_28', '_30', '_33', '_35', '_37', '_5', '_54', '__', '___', '__builtin__', '__builtins__', '__doc__', '__loader__', '__name__', '__package__', '__spec__', '_dh', '_i', '_i1', '_i10', '_i11', '_i12', '_i13', '_i14', '_i15', '_i16', '_i17', '_i18', '_i19', '_i2', '_i20', '_i21', '_i22', '_i23', '_i24', '_i25', '_i26', '_i27', '_i28', '_i29', '_i3', '_i30', '_i31', '_i32', '_i33', '_i34', '_i35', '_i36', '_i37', '_i38', '_i39', '_i4', '_i40', '_i41', '_i42', '_i43', '_i44', '_i45', '_i46', '_i47', '_i48', '_i49', '_i5', '_i50', '_i51', '_i52', '_i53', '_i54', '_i55', '_i56', '_i57', '_i58', '_i59', '_i6', '_i60', '_i61', '_i62', '_i63', '_i64', '_i65', '_i7', '_i8', '_i9', '_ih', '_ii', '_iii', '_oh', 'abc', 'add', 'consonants', 'consonants_upper', 'cubes', 'degree', 'even', 'even_nums', 'exit', 'get_ipython', 'html_tag', 'log_hi', 'logger', 'lst', 'my_map', 'nums', 'open', 'outer', 'print_h1', 'quit', 'res', 'square', 'squares', 'sum_of_square', 'text', 'x']\n"
     ]
    }
   ],
   "source": [
    "print(dir())"
   ]
  },
  {
   "cell_type": "code",
   "execution_count": 66,
   "id": "5b5c5131",
   "metadata": {},
   "outputs": [
    {
     "name": "stdout",
     "output_type": "stream",
     "text": [
      "I am the abc function\n"
     ]
    }
   ],
   "source": [
    "abc()"
   ]
  },
  {
   "cell_type": "code",
   "execution_count": 67,
   "id": "14ac200c",
   "metadata": {},
   "outputs": [],
   "source": [
    "def abc():\n",
    "    print('I am the abc function')\n",
    "    \n",
    "    def jkl():\n",
    "        print('I am jkl function')\n",
    "        \n",
    "    jkl()    "
   ]
  },
  {
   "cell_type": "code",
   "execution_count": 68,
   "id": "ff41c3d6",
   "metadata": {},
   "outputs": [
    {
     "name": "stdout",
     "output_type": "stream",
     "text": [
      "I am the abc function\n",
      "I am jkl function\n"
     ]
    }
   ],
   "source": [
    "abc()"
   ]
  },
  {
   "cell_type": "code",
   "execution_count": null,
   "id": "6aa624c4",
   "metadata": {},
   "outputs": [],
   "source": []
  }
 ],
 "metadata": {
  "kernelspec": {
   "display_name": "Python 3 (ipykernel)",
   "language": "python",
   "name": "python3"
  },
  "language_info": {
   "codemirror_mode": {
    "name": "ipython",
    "version": 3
   },
   "file_extension": ".py",
   "mimetype": "text/x-python",
   "name": "python",
   "nbconvert_exporter": "python",
   "pygments_lexer": "ipython3",
   "version": "3.11.5"
  }
 },
 "nbformat": 4,
 "nbformat_minor": 5
}
