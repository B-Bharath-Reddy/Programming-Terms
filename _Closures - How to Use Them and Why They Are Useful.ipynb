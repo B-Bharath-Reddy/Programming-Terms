{
 "cells": [
  {
   "cell_type": "markdown",
   "id": "63649e94",
   "metadata": {},
   "source": [
    "#### first class functions allow us to treat functions like any other objects "
   ]
  },
  {
   "cell_type": "markdown",
   "id": "4ecdbad0",
   "metadata": {},
   "source": [
    "- Examples"
   ]
  },
  {
   "cell_type": "markdown",
   "id": "dfc35f4d",
   "metadata": {},
   "source": [
    "1) We can pass functions as an argument to another function"
   ]
  },
  {
   "cell_type": "markdown",
   "id": "fa7f8f79",
   "metadata": {},
   "source": [
    "2. We can return results as a function "
   ]
  },
  {
   "cell_type": "markdown",
   "id": "5e5e1807",
   "metadata": {},
   "source": [
    "3. We can assign functions to a variable"
   ]
  },
  {
   "cell_type": "markdown",
   "id": "7abba951",
   "metadata": {},
   "source": [
    "# Closures"
   ]
  },
  {
   "cell_type": "markdown",
   "id": "29c80140",
   "metadata": {},
   "source": [
    "In programming languages, a closure, also lexical closure or function closure, is a technique for implementing lexically scoped name binding in a language with first-class functions."
   ]
  },
  {
   "cell_type": "markdown",
   "id": "b8155a22",
   "metadata": {},
   "source": [
    "Operationally, a closure is a record storing a function together with an environment."
   ]
  },
  {
   "cell_type": "markdown",
   "id": "848060e3",
   "metadata": {},
   "source": [
    "The environment is a mapping associating each free variable of the function (variables that are used locally, but defined in an enclosing scope) with the value or reference to which the name was bound when the closure was created."
   ]
  },
  {
   "cell_type": "markdown",
   "id": "2c831152",
   "metadata": {},
   "source": [
    "Unlike a plain function, a closure allows the function to access those captured variables through the closure's copies of their values or references, even when the function is invoked outside their scope."
   ]
  },
  {
   "cell_type": "code",
   "execution_count": 2,
   "id": "d96cfd75",
   "metadata": {},
   "outputs": [],
   "source": [
    "def outer_func():\n",
    "    \n",
    "    message = \"Hi\"\n",
    "    \n",
    "    def inner_func():\n",
    "        print(message)\n",
    "        \n",
    "    return inner_func()    "
   ]
  },
  {
   "cell_type": "code",
   "execution_count": 6,
   "id": "7a9736c0",
   "metadata": {},
   "outputs": [
    {
     "name": "stdout",
     "output_type": "stream",
     "text": [
      "Hi\n"
     ]
    }
   ],
   "source": [
    "outer_func()"
   ]
  },
  {
   "cell_type": "markdown",
   "id": "8f02d168",
   "metadata": {},
   "source": [
    "- When our inner function access this message variable this is what we actually called free variable"
   ]
  },
  {
   "cell_type": "markdown",
   "id": "938c22ac",
   "metadata": {},
   "source": [
    "- Because its not defined in the inner function but we still access to that within our inner function"
   ]
  },
  {
   "cell_type": "markdown",
   "id": "cb28fdb1",
   "metadata": {},
   "source": [
    "Instead of executing inner function and returning do returning inner function and execute it"
   ]
  },
  {
   "cell_type": "code",
   "execution_count": 7,
   "id": "02a86a1d",
   "metadata": {},
   "outputs": [],
   "source": [
    "def outer_func():\n",
    "    \n",
    "    message = \"Hi\"\n",
    "    \n",
    "    def inner_func():\n",
    "        print(message)\n",
    "        \n",
    "    return inner_func  "
   ]
  },
  {
   "cell_type": "code",
   "execution_count": 11,
   "id": "bbd28300",
   "metadata": {},
   "outputs": [],
   "source": [
    "my_func = outer_func()"
   ]
  },
  {
   "cell_type": "code",
   "execution_count": 16,
   "id": "74cd2258",
   "metadata": {},
   "outputs": [],
   "source": [
    "# my_func == inner_func"
   ]
  },
  {
   "cell_type": "code",
   "execution_count": 17,
   "id": "85d20729",
   "metadata": {},
   "outputs": [
    {
     "data": {
      "text/plain": [
       "<function __main__.outer_func.<locals>.inner_func()>"
      ]
     },
     "execution_count": 17,
     "metadata": {},
     "output_type": "execute_result"
    }
   ],
   "source": [
    "my_func"
   ]
  },
  {
   "cell_type": "code",
   "execution_count": 18,
   "id": "dcc978e1",
   "metadata": {},
   "outputs": [
    {
     "name": "stdout",
     "output_type": "stream",
     "text": [
      "inner_func\n"
     ]
    }
   ],
   "source": [
    "print(my_func.__name__)"
   ]
  },
  {
   "cell_type": "code",
   "execution_count": 19,
   "id": "bf78b29d",
   "metadata": {},
   "outputs": [
    {
     "name": "stdout",
     "output_type": "stream",
     "text": [
      "Hi\n"
     ]
    }
   ],
   "source": [
    "my_func()"
   ]
  },
  {
   "cell_type": "markdown",
   "id": "6922560d",
   "metadata": {},
   "source": [
    "In simple words closure is an inner function that remembers and access to variable in the local scope in which it was created even after the outer function has finished exxecuting"
   ]
  },
  {
   "cell_type": "markdown",
   "id": "dc694631",
   "metadata": {},
   "source": [
    "Or Closure closes over the free variable from their envronment\n",
    "In this case message is a free variable"
   ]
  },
  {
   "cell_type": "code",
   "execution_count": 20,
   "id": "9d530053",
   "metadata": {},
   "outputs": [],
   "source": [
    "def outer_func(msg):\n",
    "    \n",
    "    message = msg\n",
    "    \n",
    "    def inner_func():\n",
    "        print(message)\n",
    "        \n",
    "    return inner_func  "
   ]
  },
  {
   "cell_type": "code",
   "execution_count": 21,
   "id": "6a8d1cc9",
   "metadata": {},
   "outputs": [],
   "source": [
    "my_func = outer_func(\"Hi\")"
   ]
  },
  {
   "cell_type": "code",
   "execution_count": 22,
   "id": "0afc15a9",
   "metadata": {},
   "outputs": [
    {
     "name": "stdout",
     "output_type": "stream",
     "text": [
      "Hi\n"
     ]
    }
   ],
   "source": [
    "my_func()"
   ]
  },
  {
   "cell_type": "code",
   "execution_count": 23,
   "id": "ec2fd969",
   "metadata": {},
   "outputs": [],
   "source": [
    "my_func = outer_func(\"Hello\")"
   ]
  },
  {
   "cell_type": "code",
   "execution_count": 24,
   "id": "95a4f8f0",
   "metadata": {},
   "outputs": [
    {
     "name": "stdout",
     "output_type": "stream",
     "text": [
      "Hello\n"
     ]
    }
   ],
   "source": [
    "my_func()"
   ]
  },
  {
   "cell_type": "code",
   "execution_count": 28,
   "id": "a5bc8c24",
   "metadata": {},
   "outputs": [],
   "source": [
    "def outer_func(msg):\n",
    "    \n",
    "    message = msg\n",
    "    \n",
    "    def inner_func(text):\n",
    "        return \"{0} {1}\".format(message,text)\n",
    "        \n",
    "    return inner_func  "
   ]
  },
  {
   "cell_type": "code",
   "execution_count": 29,
   "id": "4e9670da",
   "metadata": {},
   "outputs": [],
   "source": [
    "my_func = outer_func(\"Hello\")"
   ]
  },
  {
   "cell_type": "code",
   "execution_count": 30,
   "id": "075b763f",
   "metadata": {},
   "outputs": [
    {
     "data": {
      "text/plain": [
       "'Hello Bharath'"
      ]
     },
     "execution_count": 30,
     "metadata": {},
     "output_type": "execute_result"
    }
   ],
   "source": [
    "my_func(\"Bharath\")"
   ]
  },
  {
   "cell_type": "code",
   "execution_count": 31,
   "id": "c7a11f3f",
   "metadata": {},
   "outputs": [
    {
     "data": {
      "text/plain": [
       "'Hi Bharath'"
      ]
     },
     "execution_count": 31,
     "metadata": {},
     "output_type": "execute_result"
    }
   ],
   "source": [
    "my_func = outer_func(\"Hi\")\n",
    "my_func(\"Bharath\")"
   ]
  },
  {
   "cell_type": "markdown",
   "id": "9143365b",
   "metadata": {},
   "source": [
    "Closure closes over the free variable from their envronment\n",
    "In this case message is a free variable"
   ]
  },
  {
   "cell_type": "code",
   "execution_count": 49,
   "id": "5587b32d",
   "metadata": {},
   "outputs": [],
   "source": [
    "import logging\n",
    "\n",
    "logging.basicConfig(filename='example.log', level=logging.INFO)\n",
    "\n",
    "\n",
    "def logger(func):\n",
    "    def log_func(*args):\n",
    "        logging.info(\n",
    "            'Running \"{}\" with arguments {}'.format(func.__name__, args))\n",
    "        print(func(*args))\n",
    "    return log_func\n",
    "\n",
    "\n",
    "# def add(x, y):\n",
    "#     return x+y\n",
    "\n",
    "\n",
    "# def sub(x, y):\n",
    "#     return x-y\n",
    "\n",
    "# add_logger = logger(add)\n",
    "# sub_logger = logger(sub)\n",
    "\n",
    "# add_logger(3, 3)\n",
    "# add_logger(4, 5)\n",
    "\n",
    "# sub_logger(10, 5)\n",
    "# sub_logger(20, 10)"
   ]
  },
  {
   "cell_type": "code",
   "execution_count": 50,
   "id": "bc5f9982",
   "metadata": {},
   "outputs": [],
   "source": [
    "def add(x, y):\n",
    "    return x+y\n",
    "\n",
    "\n",
    "def sub(x, y):\n",
    "    return x-y"
   ]
  },
  {
   "cell_type": "code",
   "execution_count": 51,
   "id": "d9aea9b4",
   "metadata": {},
   "outputs": [],
   "source": [
    "add_logger = logger(add)\n",
    "sub_logger = logger(sub)"
   ]
  },
  {
   "cell_type": "code",
   "execution_count": 52,
   "id": "0466948b",
   "metadata": {},
   "outputs": [
    {
     "name": "stdout",
     "output_type": "stream",
     "text": [
      "6\n",
      "5\n"
     ]
    }
   ],
   "source": [
    "add_logger(3, 3)\n",
    "sub_logger(10, 5)"
   ]
  },
  {
   "cell_type": "markdown",
   "id": "03ae20d3",
   "metadata": {},
   "source": [
    "The above code or closure or function to below function except we are using some modules for better understanding"
   ]
  },
  {
   "cell_type": "code",
   "execution_count": 38,
   "id": "412311a4",
   "metadata": {},
   "outputs": [],
   "source": [
    "def outer(func):\n",
    "    def inner(*args):\n",
    "        print(func(*args))\n",
    "    return inner    "
   ]
  },
  {
   "cell_type": "code",
   "execution_count": 39,
   "id": "1ac06d78",
   "metadata": {},
   "outputs": [],
   "source": [
    "def add(x,y):\n",
    "    return x+y"
   ]
  },
  {
   "cell_type": "code",
   "execution_count": 40,
   "id": "d6760196",
   "metadata": {},
   "outputs": [],
   "source": [
    "x= outer(add)"
   ]
  },
  {
   "cell_type": "code",
   "execution_count": 41,
   "id": "b1da0707",
   "metadata": {},
   "outputs": [
    {
     "name": "stdout",
     "output_type": "stream",
     "text": [
      "10\n"
     ]
    }
   ],
   "source": [
    "x(5,5)"
   ]
  },
  {
   "cell_type": "code",
   "execution_count": 45,
   "id": "dfb3a713",
   "metadata": {},
   "outputs": [],
   "source": [
    "def outer(f,x,y):\n",
    "    s=f(x,y)\n",
    "    return s"
   ]
  },
  {
   "cell_type": "code",
   "execution_count": 46,
   "id": "43cf8147",
   "metadata": {},
   "outputs": [],
   "source": [
    "x = outer(add,5,5)"
   ]
  },
  {
   "cell_type": "code",
   "execution_count": 47,
   "id": "a880a505",
   "metadata": {},
   "outputs": [
    {
     "data": {
      "text/plain": [
       "10"
      ]
     },
     "execution_count": 47,
     "metadata": {},
     "output_type": "execute_result"
    }
   ],
   "source": [
    "x"
   ]
  },
  {
   "cell_type": "code",
   "execution_count": null,
   "id": "e5eb21c8",
   "metadata": {},
   "outputs": [],
   "source": []
  }
 ],
 "metadata": {
  "kernelspec": {
   "display_name": "Python 3 (ipykernel)",
   "language": "python",
   "name": "python3"
  },
  "language_info": {
   "codemirror_mode": {
    "name": "ipython",
    "version": 3
   },
   "file_extension": ".py",
   "mimetype": "text/x-python",
   "name": "python",
   "nbconvert_exporter": "python",
   "pygments_lexer": "ipython3",
   "version": "3.11.5"
  }
 },
 "nbformat": 4,
 "nbformat_minor": 5
}
