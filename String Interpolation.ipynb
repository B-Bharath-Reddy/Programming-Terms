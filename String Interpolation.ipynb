{
 "cells": [
  {
   "cell_type": "markdown",
   "id": "d52f7b4e",
   "metadata": {},
   "source": [
    "In computer programming, string interpolation (or variable interpolation, variable substitution, or variable expansion) is the process of evaluating a string literal containing one or more placeholders, yielding a result in which the placeholders are replaced with their corresponding values."
   ]
  },
  {
   "cell_type": "markdown",
   "id": "f43af090",
   "metadata": {},
   "source": [
    "It is a form of simple template processing[1] or, in formal terms, a form of quasi-quotation (or logic substitution interpretation). "
   ]
  },
  {
   "cell_type": "markdown",
   "id": "53bc80ab",
   "metadata": {},
   "source": [
    "The placeholder may be a variable name, or in some languages an arbitrary expression, in either case evaluated in the current context."
   ]
  },
  {
   "cell_type": "code",
   "execution_count": 1,
   "id": "2c49bc20",
   "metadata": {},
   "outputs": [
    {
     "ename": "TypeError",
     "evalue": "can only concatenate str (not \"int\") to str",
     "output_type": "error",
     "traceback": [
      "\u001b[1;31m---------------------------------------------------------------------------\u001b[0m",
      "\u001b[1;31mTypeError\u001b[0m                                 Traceback (most recent call last)",
      "Cell \u001b[1;32mIn[1], line 4\u001b[0m\n\u001b[0;32m      1\u001b[0m name \u001b[38;5;241m=\u001b[39m \u001b[38;5;124m\"\u001b[39m\u001b[38;5;124mBharath\u001b[39m\u001b[38;5;124m\"\u001b[39m\n\u001b[0;32m      2\u001b[0m age \u001b[38;5;241m=\u001b[39m \u001b[38;5;241m22\u001b[39m\n\u001b[1;32m----> 4\u001b[0m greeting \u001b[38;5;241m=\u001b[39m \u001b[38;5;124m\"\u001b[39m\u001b[38;5;124mMy name is\u001b[39m\u001b[38;5;124m\"\u001b[39m \u001b[38;5;241m+\u001b[39m name \u001b[38;5;241m+\u001b[39m \u001b[38;5;124m\"\u001b[39m\u001b[38;5;124mand I am\u001b[39m\u001b[38;5;124m\"\u001b[39m \u001b[38;5;241m+\u001b[39m age\n",
      "\u001b[1;31mTypeError\u001b[0m: can only concatenate str (not \"int\") to str"
     ]
    }
   ],
   "source": [
    "name = \"Bharath\"\n",
    "age = 22\n",
    "\n",
    "greeting = \"My name is\" + name + \"and I am\" + age"
   ]
  },
  {
   "cell_type": "code",
   "execution_count": 4,
   "id": "30656873",
   "metadata": {},
   "outputs": [],
   "source": [
    "name = \"Bharath\"\n",
    "age = 22\n",
    "\n",
    "greeting = \"My name is\" + name + \"and I am\" + str(age) + \"years old\""
   ]
  },
  {
   "cell_type": "code",
   "execution_count": 5,
   "id": "9c9531a7",
   "metadata": {},
   "outputs": [
    {
     "name": "stdout",
     "output_type": "stream",
     "text": [
      "My name isBharathand I am22years old\n"
     ]
    }
   ],
   "source": [
    "print(greeting)"
   ]
  },
  {
   "cell_type": "markdown",
   "id": "60362bfb",
   "metadata": {},
   "source": [
    "- You can see now that my spacing is off and this is a common problem str concatenation"
   ]
  },
  {
   "cell_type": "markdown",
   "id": "2bc77afb",
   "metadata": {},
   "source": [
    "- To overcome this we could do"
   ]
  },
  {
   "cell_type": "code",
   "execution_count": 8,
   "id": "9e143afe",
   "metadata": {},
   "outputs": [],
   "source": [
    "name = \"Bharath\"\n",
    "age = 22\n",
    "\n",
    "greeting = \"My name is \" + name + \" and I am \" + str(age) + \" years old\""
   ]
  },
  {
   "cell_type": "code",
   "execution_count": 9,
   "id": "af96da7d",
   "metadata": {},
   "outputs": [
    {
     "name": "stdout",
     "output_type": "stream",
     "text": [
      "My name is Bharath and I am 22 years old\n"
     ]
    }
   ],
   "source": [
    "print(greeting)"
   ]
  },
  {
   "cell_type": "markdown",
   "id": "284481a1",
   "metadata": {},
   "source": [
    "Str interpolation is just using place holders {} within your string and then replacing those placeholders with the values at later time "
   ]
  },
  {
   "cell_type": "code",
   "execution_count": 10,
   "id": "35ef6f23",
   "metadata": {},
   "outputs": [],
   "source": [
    "name = \"Bharath\"\n",
    "age = 22\n",
    "\n",
    "greeting = \"My name is {} and I am {} years old\".format(name,age)"
   ]
  },
  {
   "cell_type": "code",
   "execution_count": 11,
   "id": "0c5a2128",
   "metadata": {},
   "outputs": [
    {
     "name": "stdout",
     "output_type": "stream",
     "text": [
      "My name is Bharath and I am 22 years old\n"
     ]
    }
   ],
   "source": [
    "print(greeting)"
   ]
  },
  {
   "cell_type": "code",
   "execution_count": 13,
   "id": "227005b4",
   "metadata": {},
   "outputs": [],
   "source": [
    "name = \"Bharath\"\n",
    "age = 22\n",
    "\n",
    "greeting = \"I am {age} years old and my name is {name}\".format(name=name,age=age)"
   ]
  },
  {
   "cell_type": "code",
   "execution_count": 14,
   "id": "80976726",
   "metadata": {},
   "outputs": [
    {
     "name": "stdout",
     "output_type": "stream",
     "text": [
      "I am 22 years old and my name is Bharath\n"
     ]
    }
   ],
   "source": [
    "print(greeting)"
   ]
  },
  {
   "cell_type": "code",
   "execution_count": null,
   "id": "5a5dbbe0",
   "metadata": {},
   "outputs": [],
   "source": []
  }
 ],
 "metadata": {
  "kernelspec": {
   "display_name": "Python 3 (ipykernel)",
   "language": "python",
   "name": "python3"
  },
  "language_info": {
   "codemirror_mode": {
    "name": "ipython",
    "version": 3
   },
   "file_extension": ".py",
   "mimetype": "text/x-python",
   "name": "python",
   "nbconvert_exporter": "python",
   "pygments_lexer": "ipython3",
   "version": "3.11.5"
  }
 },
 "nbformat": 4,
 "nbformat_minor": 5
}
