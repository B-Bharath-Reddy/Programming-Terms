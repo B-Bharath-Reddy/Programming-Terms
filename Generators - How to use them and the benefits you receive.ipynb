{
 "cells": [
  {
   "cell_type": "code",
   "execution_count": 1,
   "id": "62a4aaf6",
   "metadata": {},
   "outputs": [],
   "source": [
    "def square_numbers(nums):\n",
    "    \n",
    "    result = []\n",
    "    \n",
    "    for i in nums:\n",
    "        result.append(i*i)\n",
    "    return result "
   ]
  },
  {
   "cell_type": "code",
   "execution_count": 2,
   "id": "1786a322",
   "metadata": {},
   "outputs": [],
   "source": [
    "my_nums = square_numbers([1,2,3,4,5])"
   ]
  },
  {
   "cell_type": "code",
   "execution_count": 3,
   "id": "3f03ec21",
   "metadata": {},
   "outputs": [
    {
     "name": "stdout",
     "output_type": "stream",
     "text": [
      "[1, 4, 9, 16, 25]\n"
     ]
    }
   ],
   "source": [
    "print(my_nums)"
   ]
  },
  {
   "cell_type": "markdown",
   "id": "1723df78",
   "metadata": {},
   "source": [
    "So the above square function just returning a list how would we convert this to be a generator"
   ]
  },
  {
   "cell_type": "code",
   "execution_count": 4,
   "id": "59b65b82",
   "metadata": {},
   "outputs": [],
   "source": [
    "def square_numbers(nums):\n",
    "    \n",
    "    for i in nums:\n",
    "        yield(i*i)\n",
    "    "
   ]
  },
  {
   "cell_type": "markdown",
   "id": "f39d7803",
   "metadata": {},
   "source": [
    "That yield key word makes this as a generator"
   ]
  },
  {
   "cell_type": "code",
   "execution_count": 5,
   "id": "5d664896",
   "metadata": {},
   "outputs": [],
   "source": [
    "my_nums = square_numbers([1,2,3,4,5])"
   ]
  },
  {
   "cell_type": "code",
   "execution_count": 6,
   "id": "42098e9e",
   "metadata": {},
   "outputs": [
    {
     "name": "stdout",
     "output_type": "stream",
     "text": [
      "<generator object square_numbers at 0x000001C7E32D1D80>\n"
     ]
    }
   ],
   "source": [
    "print(my_nums)"
   ]
  },
  {
   "cell_type": "markdown",
   "id": "566d030e",
   "metadata": {},
   "source": [
    "We know that my_nums is a generator object"
   ]
  },
  {
   "cell_type": "markdown",
   "id": "48ab859d",
   "metadata": {},
   "source": [
    "#### Generators dont hold entire results in memory it yields one result at a time "
   ]
  },
  {
   "cell_type": "markdown",
   "id": "f1c8b99d",
   "metadata": {},
   "source": [
    "We need to ask for the next result next()"
   ]
  },
  {
   "cell_type": "code",
   "execution_count": 7,
   "id": "328b6bbe",
   "metadata": {},
   "outputs": [
    {
     "name": "stdout",
     "output_type": "stream",
     "text": [
      "1\n"
     ]
    }
   ],
   "source": [
    "print(next(my_nums))"
   ]
  },
  {
   "cell_type": "code",
   "execution_count": 8,
   "id": "c57fa15a",
   "metadata": {},
   "outputs": [
    {
     "name": "stdout",
     "output_type": "stream",
     "text": [
      "4\n",
      "9\n",
      "16\n",
      "25\n"
     ]
    }
   ],
   "source": [
    "print(next(my_nums))\n",
    "print(next(my_nums))\n",
    "print(next(my_nums))\n",
    "print(next(my_nums))"
   ]
  },
  {
   "cell_type": "code",
   "execution_count": 9,
   "id": "6de87156",
   "metadata": {},
   "outputs": [
    {
     "ename": "StopIteration",
     "evalue": "",
     "output_type": "error",
     "traceback": [
      "\u001b[1;31m---------------------------------------------------------------------------\u001b[0m",
      "\u001b[1;31mStopIteration\u001b[0m                             Traceback (most recent call last)",
      "Cell \u001b[1;32mIn[9], line 1\u001b[0m\n\u001b[1;32m----> 1\u001b[0m \u001b[38;5;28mprint\u001b[39m(\u001b[38;5;28mnext\u001b[39m(my_nums))\n",
      "\u001b[1;31mStopIteration\u001b[0m: "
     ]
    }
   ],
   "source": [
    "print(next(my_nums))"
   ]
  },
  {
   "cell_type": "markdown",
   "id": "69925a91",
   "metadata": {},
   "source": [
    "Instead of getting these values one at a time we can use loop for getting"
   ]
  },
  {
   "cell_type": "code",
   "execution_count": null,
   "id": "dbbab5bb",
   "metadata": {},
   "outputs": [],
   "source": [
    "for num in my_nums:\n",
    "    print(num)"
   ]
  },
  {
   "cell_type": "markdown",
   "id": "2a78b3af",
   "metadata": {},
   "source": [
    "We are not hetting StopIteration because for loop know when to loop over "
   ]
  },
  {
   "cell_type": "markdown",
   "id": "b21b0c7c",
   "metadata": {},
   "source": [
    "list comprehension`"
   ]
  },
  {
   "cell_type": "code",
   "execution_count": null,
   "id": "96f792b8",
   "metadata": {},
   "outputs": [],
   "source": [
    "my_nums = [x*x for x in [1,2,3,4,5]]"
   ]
  },
  {
   "cell_type": "code",
   "execution_count": null,
   "id": "07257393",
   "metadata": {},
   "outputs": [],
   "source": [
    "print(my_nums)"
   ]
  },
  {
   "cell_type": "code",
   "execution_count": null,
   "id": "a088c72f",
   "metadata": {},
   "outputs": [],
   "source": [
    "for num in my_nums:\n",
    "    print(num)"
   ]
  },
  {
   "cell_type": "markdown",
   "id": "f052effe",
   "metadata": {},
   "source": [
    "#### Tuple comprehension is know as generator"
   ]
  },
  {
   "cell_type": "code",
   "execution_count": null,
   "id": "801f8013",
   "metadata": {},
   "outputs": [],
   "source": [
    "my_nums = (x*x for x in [1,2,3,4,5])"
   ]
  },
  {
   "cell_type": "code",
   "execution_count": null,
   "id": "a7c44eec",
   "metadata": {},
   "outputs": [],
   "source": [
    "print(my_nums)"
   ]
  },
  {
   "cell_type": "code",
   "execution_count": null,
   "id": "17de84b0",
   "metadata": {},
   "outputs": [],
   "source": [
    "for num in my_nums:\n",
    "    print(num)"
   ]
  },
  {
   "cell_type": "markdown",
   "id": "20ab73fd",
   "metadata": {},
   "source": [
    "What if we wanted to actually print all the values from the generator "
   ]
  },
  {
   "cell_type": "markdown",
   "id": "6d583a48",
   "metadata": {},
   "source": [
    "We already know that generator not all hold values in memory to make like that we need convert into a list"
   ]
  },
  {
   "cell_type": "code",
   "execution_count": null,
   "id": "9f09abdb",
   "metadata": {},
   "outputs": [],
   "source": [
    "my_nums = (x*x for x in [1,2,3,4,5])"
   ]
  },
  {
   "cell_type": "code",
   "execution_count": null,
   "id": "57cf2ce2",
   "metadata": {},
   "outputs": [],
   "source": [
    "print(my_nums)"
   ]
  },
  {
   "cell_type": "code",
   "execution_count": null,
   "id": "f547ae7c",
   "metadata": {},
   "outputs": [],
   "source": [
    "list(my_nums)"
   ]
  },
  {
   "cell_type": "markdown",
   "id": "4e4c4edc",
   "metadata": {},
   "source": [
    "So generator is better with performance because like i said its not holding all the values in the memory "
   ]
  },
  {
   "cell_type": "markdown",
   "id": "daa43cbc",
   "metadata": {},
   "source": [
    "Whenever we cast generator object to a list and if that generator had a lot of values that it needed to convert to that list then you loose that performance(generator object is memory efficient)"
   ]
  },
  {
   "cell_type": "code",
   "execution_count": 10,
   "id": "e90f1a1c",
   "metadata": {},
   "outputs": [
    {
     "name": "stdout",
     "output_type": "stream",
     "text": [
      "Requirement already satisfied: memory_profiler in c:\\users\\bharathreddybollu\\anaconda3\\lib\\site-packages (0.61.0)\n",
      "Requirement already satisfied: psutil in c:\\users\\bharathreddybollu\\anaconda3\\lib\\site-packages (from memory_profiler) (5.9.0)\n",
      "Note: you may need to restart the kernel to use updated packages.\n"
     ]
    }
   ],
   "source": [
    "pip install memory_profiler"
   ]
  },
  {
   "cell_type": "code",
   "execution_count": 14,
   "id": "4eb3f8dc",
   "metadata": {},
   "outputs": [
    {
     "name": "stdout",
     "output_type": "stream",
     "text": [
      "Memory (Before): [110.48046875]Mb\n",
      "Memory (After) : [333.3203125]Mb\n",
      "Took 1.9170572757720947 Seconds\n"
     ]
    }
   ],
   "source": [
    "import memory_profiler as mem_profile\n",
    "import random\n",
    "import time\n",
    "\n",
    "names = ['John', 'Corey', 'Adam', 'Steve', 'Rick', 'Thomas']\n",
    "majors = ['Math', 'Engineering', 'CompSci', 'Arts', 'Business']\n",
    "\n",
    "print('Memory (Before): {}Mb'.format(mem_profile.memory_usage()))\n",
    "\n",
    "def people_list(num_people):\n",
    "    result = []\n",
    "    for i in range(num_people):\n",
    "        person = {\n",
    "                    'id': i,\n",
    "                    'name': random.choice(names), \n",
    "                    'major': random.choice(majors)\n",
    "                }\n",
    "        result.append(person)\n",
    "    return result\n",
    "\n",
    "# def people_generator(num_people):\n",
    "#     for i in range(num_people):\n",
    "#         person = {\n",
    "#                     'id': i,\n",
    "#                     'name': random.choice(names),\n",
    "#                     'major': random.choice(majors)\n",
    "#                 }\n",
    "#         yield person\n",
    "\n",
    "t1 = time.time()\n",
    "people = people_list(1000000)\n",
    "t2 = time.time()\n",
    "\n",
    "# t1 = time.clock()\n",
    "# people = people_generator(1000000)\n",
    "# t2 = time.clock()\n",
    "\n",
    "print('Memory (After) : {}Mb'.format(mem_profile.memory_usage()))\n",
    "print('Took {} Seconds'.format(t2-t1))"
   ]
  },
  {
   "cell_type": "code",
   "execution_count": 16,
   "id": "935723b1",
   "metadata": {},
   "outputs": [
    {
     "name": "stdout",
     "output_type": "stream",
     "text": [
      "Memory (Before): [333.5703125]Mb\n",
      "Memory (After) : [116.89453125]Mb\n",
      "Took 0.09900403022766113 Seconds\n"
     ]
    }
   ],
   "source": [
    "import memory_profiler as mem_profile\n",
    "import random\n",
    "import time\n",
    "\n",
    "names = ['John', 'Corey', 'Adam', 'Steve', 'Rick', 'Thomas']\n",
    "majors = ['Math', 'Engineering', 'CompSci', 'Arts', 'Business']\n",
    "\n",
    "print('Memory (Before): {}Mb'.format(mem_profile.memory_usage()))\n",
    "\n",
    "# def people_list(num_people):\n",
    "#     result = []\n",
    "#     for i in range(num_people):\n",
    "#         person = {\n",
    "#                     'id': i,\n",
    "#                     'name': random.choice(names), \n",
    "#                     'major': random.choice(majors)\n",
    "#                 }\n",
    "#         result.append(person)\n",
    "#     return result\n",
    "\n",
    "def people_generator(num_people):\n",
    "    for i in range(num_people):\n",
    "        person = {\n",
    "                    'id': i,\n",
    "                    'name': random.choice(names),\n",
    "                    'major': random.choice(majors)\n",
    "                }\n",
    "        yield person\n",
    "\n",
    "# t1 = time.time()\n",
    "# people = people_list(1000000)\n",
    "# t2 = time.time()\n",
    "\n",
    "t1 = time.time()\n",
    "people = people_generator(1000000)\n",
    "t2 = time.time()\n",
    "\n",
    "print('Memory (After) : {}Mb'.format(mem_profile.memory_usage()))\n",
    "print('Took {} Seconds'.format(t2-t1))"
   ]
  },
  {
   "cell_type": "markdown",
   "id": "ced3468c",
   "metadata": {},
   "source": [
    "You can see that memory exactly same that before and after and thats because that generator object hasn't done anything yet its not holding anything(values exm 1million)"
   ]
  },
  {
   "cell_type": "markdown",
   "id": "f80e7496",
   "metadata": {},
   "source": [
    "Now we can see that memory consumption once we casted our generator object to list"
   ]
  },
  {
   "cell_type": "code",
   "execution_count": 17,
   "id": "8a647755",
   "metadata": {},
   "outputs": [
    {
     "name": "stdout",
     "output_type": "stream",
     "text": [
      "Memory (Before): [115.90625]Mb\n",
      "Memory (After) : [333.42578125]Mb\n",
      "Took 1.9570972919464111 Seconds\n"
     ]
    }
   ],
   "source": [
    "import memory_profiler as mem_profile\n",
    "import random\n",
    "import time\n",
    "\n",
    "names = ['John', 'Corey', 'Adam', 'Steve', 'Rick', 'Thomas']\n",
    "majors = ['Math', 'Engineering', 'CompSci', 'Arts', 'Business']\n",
    "\n",
    "print('Memory (Before): {}Mb'.format(mem_profile.memory_usage()))\n",
    "\n",
    "# def people_list(num_people):\n",
    "#     result = []\n",
    "#     for i in range(num_people):\n",
    "#         person = {\n",
    "#                     'id': i,\n",
    "#                     'name': random.choice(names), \n",
    "#                     'major': random.choice(majors)\n",
    "#                 }\n",
    "#         result.append(person)\n",
    "#     return result\n",
    "\n",
    "def people_generator(num_people):\n",
    "    for i in range(num_people):\n",
    "        person = {\n",
    "                    'id': i,\n",
    "                    'name': random.choice(names),\n",
    "                    'major': random.choice(majors)\n",
    "                }\n",
    "        yield person\n",
    "\n",
    "# t1 = time.time()\n",
    "# people = people_list(1000000)\n",
    "# t2 = time.time()\n",
    "\n",
    "t1 = time.time()\n",
    "people = list(people_generator(1000000))\n",
    "t2 = time.time()\n",
    "\n",
    "print('Memory (After) : {}Mb'.format(mem_profile.memory_usage()))\n",
    "print('Took {} Seconds'.format(t2-t1))"
   ]
  },
  {
   "cell_type": "code",
   "execution_count": null,
   "id": "f44f4e30",
   "metadata": {},
   "outputs": [],
   "source": []
  }
 ],
 "metadata": {
  "kernelspec": {
   "display_name": "Python 3 (ipykernel)",
   "language": "python",
   "name": "python3"
  },
  "language_info": {
   "codemirror_mode": {
    "name": "ipython",
    "version": 3
   },
   "file_extension": ".py",
   "mimetype": "text/x-python",
   "name": "python",
   "nbconvert_exporter": "python",
   "pygments_lexer": "ipython3",
   "version": "3.11.5"
  }
 },
 "nbformat": 4,
 "nbformat_minor": 5
}
