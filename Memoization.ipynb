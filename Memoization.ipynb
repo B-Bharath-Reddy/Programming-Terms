{
 "cells": [
  {
   "cell_type": "markdown",
   "id": "daf0f0fe",
   "metadata": {},
   "source": [
    "In computing, memoization or memoisation is an optimization technique used primarily to speed up computer programs by storing the results of expensive function calls to pure functions and returning the cached result when the same inputs occur again. "
   ]
  },
  {
   "cell_type": "code",
   "execution_count": 2,
   "id": "b03af15e",
   "metadata": {},
   "outputs": [
    {
     "name": "stdout",
     "output_type": "stream",
     "text": [
      "Computing 4...\n",
      "16\n",
      "Computing 10...\n",
      "100\n",
      "Computing 4...\n",
      "16\n",
      "Computing 10...\n",
      "100\n"
     ]
    }
   ],
   "source": [
    "import time\n",
    "\n",
    "\n",
    "def expensive_func(num):\n",
    "\n",
    "    print(\"Computing {}...\".format(num))\n",
    "    time.sleep(1)\n",
    "    return num * num\n",
    "\n",
    "result = expensive_func(4)\n",
    "print(result)\n",
    "\n",
    "result = expensive_func(10)\n",
    "print(result)\n",
    "\n",
    "result = expensive_func(4)\n",
    "print(result)\n",
    "\n",
    "result = expensive_func(10)\n",
    "print(result)"
   ]
  },
  {
   "cell_type": "markdown",
   "id": "4015d531",
   "metadata": {},
   "source": [
    "So the reason behind memoization is that if you saw here it computed 4 and 10 first and returned results and again 4 and 10 it is going to computing"
   ]
  },
  {
   "cell_type": "markdown",
   "id": "a1c4642f",
   "metadata": {},
   "source": [
    "Instead of computing same values twice (4 and 10) it would be nice  if we just remembered that answer "
   ]
  },
  {
   "cell_type": "markdown",
   "id": "ea458556",
   "metadata": {},
   "source": [
    "Remembering the answers is all about memoization we are saving that result to a cache and whenever we see that expensive function call again with same values passed in that instead of computing those values again we can just return the result that we already computed and syored in a cache"
   ]
  },
  {
   "cell_type": "code",
   "execution_count": 4,
   "id": "b8f8ed88",
   "metadata": {},
   "outputs": [
    {
     "name": "stdout",
     "output_type": "stream",
     "text": [
      "Computing 4...\n",
      "16\n",
      "Computing 10...\n",
      "100\n",
      "16\n",
      "100\n"
     ]
    }
   ],
   "source": [
    "import time\n",
    "\n",
    "ef_cache = {}\n",
    "\n",
    "def expensive_func(num):\n",
    "    \n",
    "    if num in ef_cache:\n",
    "        return ef_cache[num]\n",
    "\n",
    "    print(\"Computing {}...\".format(num))\n",
    "    time.sleep(1)\n",
    "    result = num*num\n",
    "    ef_cache[num] = result\n",
    "    return result\n",
    "\n",
    "result = expensive_func(4)\n",
    "print(result)\n",
    "\n",
    "result = expensive_func(10)\n",
    "print(result)\n",
    "\n",
    "result = expensive_func(4)\n",
    "print(result)\n",
    "\n",
    "result = expensive_func(10)\n",
    "print(result)"
   ]
  },
  {
   "cell_type": "markdown",
   "id": "f053e8db",
   "metadata": {},
   "source": [
    "In the above output you can see that second time values 4 and 10 not computed but we are getting values from stored result(cache)"
   ]
  },
  {
   "cell_type": "code",
   "execution_count": null,
   "id": "99dead35",
   "metadata": {},
   "outputs": [],
   "source": []
  }
 ],
 "metadata": {
  "kernelspec": {
   "display_name": "Python 3 (ipykernel)",
   "language": "python",
   "name": "python3"
  },
  "language_info": {
   "codemirror_mode": {
    "name": "ipython",
    "version": 3
   },
   "file_extension": ".py",
   "mimetype": "text/x-python",
   "name": "python",
   "nbconvert_exporter": "python",
   "pygments_lexer": "ipython3",
   "version": "3.11.5"
  }
 },
 "nbformat": 4,
 "nbformat_minor": 5
}
