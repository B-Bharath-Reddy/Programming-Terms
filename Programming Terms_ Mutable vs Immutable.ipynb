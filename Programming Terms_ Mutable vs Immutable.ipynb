{
 "cells": [
  {
   "cell_type": "markdown",
   "id": "b146c812",
   "metadata": {},
   "source": [
    "# Mutable vs Immutable"
   ]
  },
  {
   "cell_type": "markdown",
   "id": "85c77608",
   "metadata": {},
   "source": [
    "In object-oriented (OO) and functional programming, an immutable object (unchangeable object) is an object whose state cannot be modified after it is created."
   ]
  },
  {
   "cell_type": "markdown",
   "id": "015e02de",
   "metadata": {},
   "source": [
    "This is in contrast to a mutable object (changeable object), which can be modified after it is created."
   ]
  },
  {
   "cell_type": "markdown",
   "id": "b5233632",
   "metadata": {},
   "source": [
    "### Immutable Object(Str)"
   ]
  },
  {
   "cell_type": "code",
   "execution_count": 1,
   "id": "1146a128",
   "metadata": {},
   "outputs": [
    {
     "name": "stdout",
     "output_type": "stream",
     "text": [
      "Hello\n"
     ]
    }
   ],
   "source": [
    "a = \"Hello\"\n",
    "print(a)"
   ]
  },
  {
   "cell_type": "markdown",
   "id": "65395824",
   "metadata": {},
   "source": [
    "- Immutable doesn't mean that i can't assign this to a new variable "
   ]
  },
  {
   "cell_type": "markdown",
   "id": "271bea52",
   "metadata": {},
   "source": [
    "- You could see that you can assign new str"
   ]
  },
  {
   "cell_type": "code",
   "execution_count": 2,
   "id": "3ed9dfe5",
   "metadata": {},
   "outputs": [
    {
     "name": "stdout",
     "output_type": "stream",
     "text": [
      "Hello World\n"
     ]
    }
   ],
   "source": [
    "a = \"Hello World\"\n",
    "print(a)"
   ]
  },
  {
   "cell_type": "code",
   "execution_count": 3,
   "id": "c554ba69",
   "metadata": {},
   "outputs": [
    {
     "name": "stdout",
     "output_type": "stream",
     "text": [
      "Hello\n",
      "Hello World\n"
     ]
    }
   ],
   "source": [
    "a = \"Hello\"\n",
    "print(a)\n",
    "a = \"Hello World\"\n",
    "print(a)"
   ]
  },
  {
   "cell_type": "markdown",
   "id": "eb7425b2",
   "metadata": {},
   "source": [
    "We know that str is immutable but what happening here is its not modifying the string but actually creating new str object"
   ]
  },
  {
   "cell_type": "code",
   "execution_count": 5,
   "id": "ad7f31e0",
   "metadata": {},
   "outputs": [
    {
     "name": "stdout",
     "output_type": "stream",
     "text": [
      "Address of a is: 2347473458160\n",
      "Hello\n",
      "Address of a is: 2347473457200\n",
      "Hello World\n"
     ]
    }
   ],
   "source": [
    "a = \"Hello\"\n",
    "print(\"Address of a is: {}\".format(id(a)))\n",
    "print(a)\n",
    "a = \"Hello World\"\n",
    "print(\"Address of a is: {}\".format(id(a)))\n",
    "print(a)"
   ]
  },
  {
   "cell_type": "code",
   "execution_count": 6,
   "id": "62b4836a",
   "metadata": {},
   "outputs": [
    {
     "ename": "TypeError",
     "evalue": "'str' object does not support item assignment",
     "output_type": "error",
     "traceback": [
      "\u001b[1;31m---------------------------------------------------------------------------\u001b[0m",
      "\u001b[1;31mTypeError\u001b[0m                                 Traceback (most recent call last)",
      "Cell \u001b[1;32mIn[6], line 2\u001b[0m\n\u001b[0;32m      1\u001b[0m a \u001b[38;5;241m=\u001b[39m \u001b[38;5;124m\"\u001b[39m\u001b[38;5;124mHello\u001b[39m\u001b[38;5;124m\"\u001b[39m\n\u001b[1;32m----> 2\u001b[0m a[\u001b[38;5;241m0\u001b[39m] \u001b[38;5;241m=\u001b[39m \u001b[38;5;124m\"\u001b[39m\u001b[38;5;124mh\u001b[39m\u001b[38;5;124m\"\u001b[39m\n",
      "\u001b[1;31mTypeError\u001b[0m: 'str' object does not support item assignment"
     ]
    }
   ],
   "source": [
    "a = \"Hello\"\n",
    "a[0] = \"h\""
   ]
  },
  {
   "cell_type": "markdown",
   "id": "bb62a1a4",
   "metadata": {},
   "source": [
    "### Mutable Objects(List,dict)"
   ]
  },
  {
   "cell_type": "code",
   "execution_count": 7,
   "id": "eccc3c8a",
   "metadata": {},
   "outputs": [],
   "source": [
    "a = [1,2,3,4,5,6]"
   ]
  },
  {
   "cell_type": "code",
   "execution_count": 8,
   "id": "b68d279e",
   "metadata": {},
   "outputs": [
    {
     "name": "stdout",
     "output_type": "stream",
     "text": [
      "[1, 2, 3, 4, 5, 6]\n",
      "Address of a is: 2347486909312\n"
     ]
    }
   ],
   "source": [
    "print(a)\n",
    "print(\"Address of a is: {}\".format(id(a)))"
   ]
  },
  {
   "cell_type": "markdown",
   "id": "48fcc315",
   "metadata": {},
   "source": [
    "- Now try to change first value in our list"
   ]
  },
  {
   "cell_type": "code",
   "execution_count": 9,
   "id": "0b543be3",
   "metadata": {},
   "outputs": [],
   "source": [
    "a[0] = 9"
   ]
  },
  {
   "cell_type": "code",
   "execution_count": 10,
   "id": "e651e0d5",
   "metadata": {},
   "outputs": [
    {
     "name": "stdout",
     "output_type": "stream",
     "text": [
      "[9, 2, 3, 4, 5, 6]\n",
      "Address of a is: 2347486909312\n"
     ]
    }
   ],
   "source": [
    "print(a)\n",
    "print(\"Address of a is: {}\".format(id(a)))"
   ]
  },
  {
   "cell_type": "markdown",
   "id": "a582f6d5",
   "metadata": {},
   "source": [
    "- You can observe that both of the lists memory address is same"
   ]
  },
  {
   "cell_type": "code",
   "execution_count": 11,
   "id": "80714622",
   "metadata": {},
   "outputs": [
    {
     "name": "stdout",
     "output_type": "stream",
     "text": [
      "[1, 2, 3, 4, 5, 6]\n",
      "Address of a is: 2347486566080\n",
      "[1, 2, 3, 4, 5, 6]\n",
      "Address of a is: 2347486566080\n"
     ]
    }
   ],
   "source": [
    "b = [1,2,3,4,5,6]\n",
    "print(b)\n",
    "print(\"Address of a is: {}\".format(id(b)))\n",
    "a[0] = 10\n",
    "print(b)\n",
    "print(\"Address of a is: {}\".format(id(b)))"
   ]
  },
  {
   "cell_type": "code",
   "execution_count": 20,
   "id": "6e0ba705",
   "metadata": {},
   "outputs": [
    {
     "name": "stdout",
     "output_type": "stream",
     "text": [
      "Address of output is 2347486700416\n",
      "Address of output is 2347486588112\n",
      "Address of output is 2347485160128\n",
      "Address of output is 2347486064816\n",
      "Address of output is 2347483277776\n",
      "Address of output is 2347474233072\n",
      "<ul>\n",
      "\t<li>Corey</li>\n",
      "\t<li>John</li>\n",
      "\t<li>Rick</li>\n",
      "\t<li>Steve</li>\n",
      "\t<li>Carl</li>\n",
      "\t<li>Adam</li>\n",
      "</ul>\n"
     ]
    }
   ],
   "source": [
    "\n",
    "employees = ['Corey', 'John', 'Rick', 'Steve', 'Carl', 'Adam']\n",
    "\n",
    "output = '<ul>\\n'\n",
    "\n",
    "for employee in employees:\n",
    "    output += '\\t<li>{}</li>\\n'.format(employee)\n",
    "    print ('Address of output is {}'.format(id(output)))\n",
    "\n",
    "output += '</ul>'\n",
    "\n",
    "print( output)\n",
    "\n",
    "# print ('\\n')"
   ]
  },
  {
   "cell_type": "markdown",
   "id": "88debd31",
   "metadata": {},
   "source": [
    "The main difference between immutable and mutable are avoiding errors(item assignments)"
   ]
  },
  {
   "cell_type": "markdown",
   "id": "223540bb",
   "metadata": {},
   "source": [
    "And memory efficient because str or immutable objects are memory efficient"
   ]
  },
  {
   "cell_type": "markdown",
   "id": "70226579",
   "metadata": {},
   "source": [
    "Mutable objects not like that because it creates new object for elements that contain in a list\n",
    "It means list is one one object and elements within list are also objects under list object"
   ]
  },
  {
   "cell_type": "code",
   "execution_count": 25,
   "id": "5e1a92e1",
   "metadata": {},
   "outputs": [
    {
     "name": "stdout",
     "output_type": "stream",
     "text": [
      "Address of list employees is: 2347486669056\n",
      "***********************************************************************\n",
      "Address of output is 2347486806544\n",
      "Address of output is 2347486586480\n",
      "Address of output is 2347485161360\n",
      "Address of output is 2347486535216\n",
      "Address of output is 2347483277776\n",
      "Address of output is 2347474231632\n",
      "<ul>\n",
      "\t<li>Corey</li>\n",
      "\t<li>John</li>\n",
      "\t<li>Rick</li>\n",
      "\t<li>Steve</li>\n",
      "\t<li>Carl</li>\n",
      "\t<li>Adam</li>\n",
      "</ul>\n",
      "***********************************************************************\n",
      "Address of list employees after modifying is: 2347486669056\n"
     ]
    }
   ],
   "source": [
    "employees = ['Corey', 'John', 'Rick', 'Steve', 'Carl', 'Adam']\n",
    "\n",
    "print(\"Address of list employees is: {}\".format(id(employees)))\n",
    "print(\"***********************************************************************\")\n",
    "\n",
    "output = '<ul>\\n'\n",
    "\n",
    "for employee in employees:\n",
    "    output += '\\t<li>{}</li>\\n'.format(employee)\n",
    "    print ('Address of output is {}'.format(id(output)))\n",
    "\n",
    "output += '</ul>'\n",
    "\n",
    "print( output)\n",
    "print(\"***********************************************************************\")\n",
    "print(\"Address of list employees after modifying is: {}\".format(id(employees)))"
   ]
  },
  {
   "cell_type": "code",
   "execution_count": null,
   "id": "402fd9f8",
   "metadata": {},
   "outputs": [],
   "source": []
  }
 ],
 "metadata": {
  "kernelspec": {
   "display_name": "Python 3 (ipykernel)",
   "language": "python",
   "name": "python3"
  },
  "language_info": {
   "codemirror_mode": {
    "name": "ipython",
    "version": 3
   },
   "file_extension": ".py",
   "mimetype": "text/x-python",
   "name": "python",
   "nbconvert_exporter": "python",
   "pygments_lexer": "ipython3",
   "version": "3.11.5"
  }
 },
 "nbformat": 4,
 "nbformat_minor": 5
}
