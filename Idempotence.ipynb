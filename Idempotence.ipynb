{
 "cells": [
  {
   "cell_type": "markdown",
   "id": "b4ebee25",
   "metadata": {},
   "source": [
    "Idempotence is the property of certain operations in mathematics and computer science whereby they can be applied multiple times without changing the result beyond the initial application."
   ]
  },
  {
   "cell_type": "markdown",
   "id": "8c975770",
   "metadata": {},
   "source": [
    "f(f(x)) = f(x)"
   ]
  },
  {
   "cell_type": "code",
   "execution_count": 1,
   "id": "d9c6f3c8",
   "metadata": {},
   "outputs": [],
   "source": [
    "def add_num(num):\n",
    "    return num+10"
   ]
  },
  {
   "cell_type": "code",
   "execution_count": 2,
   "id": "f7a78958",
   "metadata": {},
   "outputs": [
    {
     "data": {
      "text/plain": [
       "20"
      ]
     },
     "execution_count": 2,
     "metadata": {},
     "output_type": "execute_result"
    }
   ],
   "source": [
    "add_num(10)"
   ]
  },
  {
   "cell_type": "code",
   "execution_count": 4,
   "id": "c17a08d9",
   "metadata": {},
   "outputs": [
    {
     "data": {
      "text/plain": [
       "False"
      ]
     },
     "execution_count": 4,
     "metadata": {},
     "output_type": "execute_result"
    }
   ],
   "source": [
    "# f(f(x))\n",
    "add_num(add_num(10)) \n",
    "# f(f(x)) = Should be eauql to f(x)\n",
    "add_num(add_num(10)) == 20 #But in this case its its not"
   ]
  },
  {
   "cell_type": "code",
   "execution_count": 5,
   "id": "160dcc1f",
   "metadata": {},
   "outputs": [
    {
     "data": {
      "text/plain": [
       "30"
      ]
     },
     "execution_count": 5,
     "metadata": {},
     "output_type": "execute_result"
    }
   ],
   "source": [
    "add_num(add_num(10))"
   ]
  },
  {
   "cell_type": "code",
   "execution_count": 14,
   "id": "0a84f323",
   "metadata": {},
   "outputs": [
    {
     "name": "stdout",
     "output_type": "stream",
     "text": [
      "-17\n"
     ]
    }
   ],
   "source": [
    "my_number = -17\n",
    "\n",
    "abs_value = abs(my_number)\n",
    "\n",
    "print(abs_value)"
   ]
  },
  {
   "cell_type": "code",
   "execution_count": 13,
   "id": "69a34493",
   "metadata": {},
   "outputs": [
    {
     "name": "stdout",
     "output_type": "stream",
     "text": [
      "10\n"
     ]
    }
   ],
   "source": [
    "print(abs(10))"
   ]
  },
  {
   "cell_type": "markdown",
   "id": "982a24fb",
   "metadata": {},
   "source": [
    "\n",
    "whenever yo do something over over  over and over and you do the same thing you get the same result back every time"
   ]
  },
  {
   "cell_type": "markdown",
   "id": "4110b89f",
   "metadata": {},
   "source": [
    "Get Url - A page shows same data how many we refresh \n",
    "Put Url are examples"
   ]
  },
  {
   "cell_type": "code",
   "execution_count": null,
   "id": "e5e16530",
   "metadata": {},
   "outputs": [],
   "source": []
  }
 ],
 "metadata": {
  "kernelspec": {
   "display_name": "Python 3 (ipykernel)",
   "language": "python",
   "name": "python3"
  },
  "language_info": {
   "codemirror_mode": {
    "name": "ipython",
    "version": 3
   },
   "file_extension": ".py",
   "mimetype": "text/x-python",
   "name": "python",
   "nbconvert_exporter": "python",
   "pygments_lexer": "ipython3",
   "version": "3.11.5"
  }
 },
 "nbformat": 4,
 "nbformat_minor": 5
}
